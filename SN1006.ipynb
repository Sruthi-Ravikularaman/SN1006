{
 "cells": [
  {
   "attachments": {},
   "cell_type": "markdown",
   "metadata": {},
   "source": [
    "# Fe K $\\alpha$ line from SN1006"
   ]
  },
  {
   "cell_type": "code",
   "execution_count": 1,
   "metadata": {},
   "outputs": [],
   "source": [
    "import numpy as np\n",
    "import matplotlib.pyplot as plt"
   ]
  },
  {
   "cell_type": "code",
   "execution_count": 2,
   "metadata": {},
   "outputs": [],
   "source": [
    "m_p = 938.272 #MeV\n",
    "m_e = 0.511  #MeV\n",
    "c = 3e10 #cm/s\n",
    "hPlanck = 4.135e-21 #MeV s\n",
    "M_sol = 2e30 # kg\n",
    "m_H = 1.67e-27 # kg\n",
    "m_avg = 1.4*m_H\n",
    "#sig_sb = 3.5394474508e7 # erg cm-2 s-1 K-4\n",
    "sig_sb = 3.5394474508e7 * 6.242e11 # eV cm-2 s-1 K-4"
   ]
  },
  {
   "cell_type": "code",
   "execution_count": 3,
   "metadata": {},
   "outputs": [],
   "source": [
    "def velocity(E_kin, rest_mass):\n",
    "    E_kin = E_kin\n",
    "    rest_mass = rest_mass\n",
    "    gamma = 1+(E_kin/rest_mass)\n",
    "    beta = np.sqrt(1-(1/(gamma**2)))\n",
    "    v = c*beta\n",
    "    return v, beta, gamma"
   ]
  },
  {
   "attachments": {},
   "cell_type": "markdown",
   "metadata": {},
   "source": [
    "## CR spectrum"
   ]
  },
  {
   "attachments": {},
   "cell_type": "markdown",
   "metadata": {},
   "source": [
    "$J_{CR}(T_i) = A_i(T_i^2 + 2T_im_ic^2)^{-\\frac{\\delta}{2}}exp\\left(-\\frac{T_i}{T_i^c}\\right)$\n",
    "where $A_i$ is the normalisation factor ($\\mathrm{eV^{-1}cm^{-2}s^{-1}sr^{-1}}$), $T_i$ is the kinetic energy of the CR particle of species $i$, $T_i^c$ is the cut-off energy, $m_i$ is the mass of the CR particle $i$, all of these quantities in $\\mathrm{GeV}$ and $\\delta$ is the power-law index."
   ]
  },
  {
   "cell_type": "code",
   "execution_count": 4,
   "metadata": {},
   "outputs": [],
   "source": [
    "def J_CRp(T_p, del_p, Ap, Tp_c):\n",
    "    # Gives spectrum in MeV-1 cm-2 s-1 sr-1\n",
    "    p2 = (T_p ** 2) + (2 * T_p * m_p) # MeV2\n",
    "    p2_GeV = 1e-6 * p2 #GeV2\n",
    "    return Ap * np.power(p2_GeV, -del_p / 2) * np.exp(- T_p / Tp_c)\n",
    "\n",
    "def J_CRe(T_e, del_e, Ae, Te_c):\n",
    "    # Gives spectrum in MeV-1 cm-2 s-1 sr-1\n",
    "    p2 = (T_e ** 2) + (2 * T_e * m_e) #MeV2\n",
    "    p2_GeV = 1e-6 * p2\n",
    "    return Ae * np.power(p2_GeV, -del_e / 2) * np.exp(- T_e / Te_c)"
   ]
  },
  {
   "attachments": {},
   "cell_type": "markdown",
   "metadata": {},
   "source": [
    "## Multi-wavelength fit"
   ]
  },
  {
   "attachments": {},
   "cell_type": "markdown",
   "metadata": {},
   "source": [
    "In order to find the normalisation and cut-off values for the CR particle spectra, we fit multiwavelength data (radio, gamma) from the SN1006 region.\n",
    "\n",
    "Radio: synchrotron emissions from electrons\n",
    "\n",
    "$\\Phi_{syn} = \\frac{\\sqrt{3}}{2\\pi}\\frac{e^3B_0}{m_ec^2}\\frac{1}{\\hbar{E}}\\int_0^{\\infty}N_{CRe}(T_e)R\\left(\\frac{T_e}{E_c(T_e)}\\right)\\,dT_e$\n",
    "\n",
    "Gamma: \n",
    "pion decay from protons\n",
    "\n",
    "$\\Phi_{\\gamma, p}(E_\\gamma) = 4\\pi{n_H}\\int\\frac{d\\sigma}{dE_\\gamma}(T_p, E_\\gamma)N_{CRp}(T_p)\\,dT_p$ \n",
    "\n",
    "inverse Compton and relativistic Bremsstrahlung from electrons \n",
    "\n",
    "$\\Phi_{\\gamma, e}(E_\\gamma) = cn_H\\int\\sigma_{brem}(E_\\gamma, T_e)N_{CRe}(T_e)\\,dT_e + \\int\\frac{dN_{iso}}{d{\\omega}dt}(T_e, E_\\gamma)N_{CRe}(T_e)\\,dT_e$\n"
   ]
  },
  {
   "cell_type": "code",
   "execution_count": 5,
   "metadata": {},
   "outputs": [],
   "source": [
    "from CRp_gamma import Phi_pp_gamma \n",
    "# Takes CRp spectrum in MeV-1 cm-2 s-1 sr-1 and returns gamma spectrum in MeV-1 cm-3 s-1\n",
    "from CRe_gamma_radio import Phi_syn, Phi_e_rel_brem, Phi_e_IC \n",
    "# Take CRe spectrum in MeV-1 cm-3 and returns gamma spectrum in MeV-1 cm-3 s-1"
   ]
  },
  {
   "cell_type": "code",
   "execution_count": 6,
   "metadata": {},
   "outputs": [],
   "source": [
    "def N_CRp(T_p, del_p, Ap, Tp_c):\n",
    "    # Gives particle density in MeV-1 cm-3\n",
    "    v_p, _, _ = velocity(T_p, m_p)\n",
    "    return (4 * np.pi / v_p) * J_CRp(T_p, del_p, Ap, Tp_c)\n",
    "\n",
    "def N_CRe(T_e, del_e, Ae, Te_c):\n",
    "    # Gives particle density in MeV-1 cm-3\n",
    "    v_e, _, _ = velocity(T_e, m_e)\n",
    "    return (4 * np.pi / v_e) * J_CRp(T_e, del_e, Ae, Te_c)"
   ]
  },
  {
   "attachments": {},
   "cell_type": "markdown",
   "metadata": {},
   "source": [
    "Loading data"
   ]
  },
  {
   "cell_type": "code",
   "execution_count": 7,
   "metadata": {},
   "outputs": [],
   "source": [
    "radio_data = np.genfromtxt(open(\"SN1006_data_radio.txt\", \"r\"), delimiter=',') # in Hz and Jy Hz\n",
    "xray_data = np.genfromtxt(open(\"SN1006_data_suzaku.txt\", \"r\"), delimiter=',') # in eV and eV cm-2 s-1\n",
    "fermi_data = np.genfromtxt(open(\"SN1006_data_SW_FERMI.txt\", \"r\"), delimiter=',') # in GeV and erg cm-2 s-1\n",
    "fermi_upper_data = np.genfromtxt(open(\"SN1006_data_SW_upper_FERMI_Acero2015.txt\", \"r\"), delimiter=',') # in eV and erg cm-2 s-1\n",
    "hess_data = np.genfromtxt(open(\"SN1006_data_SW_HESS.txt\", \"r\"), delimiter=',') # in eV and erg cm-2 s-1"
   ]
  },
  {
   "attachments": {},
   "cell_type": "markdown",
   "metadata": {},
   "source": [
    "Converting all to units $\\mathrm{MeV}$ and $\\mathrm{erg.cm^{-2}.s^{-1}}$"
   ]
  },
  {
   "cell_type": "code",
   "execution_count": 8,
   "metadata": {},
   "outputs": [],
   "source": [
    "Er, Phi_radio = radio_data[:, 0] * hPlanck, 1e-23 * radio_data[:, 1] \n",
    "Ex, Phi_xray = xray_data[:, 0] * 1e-6, xray_data[:, 1] * 1.602e-12\n",
    "Ef, Efm, Efp, Phi_fermi, Phi_fp, Phi_fm = fermi_data[:, 0] * 1e3, fermi_data[:, 1] * 1e3, fermi_data[:, 2] * 1e3, fermi_data[:, 3], fermi_data[:, 4], fermi_data[:, 5]\n",
    "Efu, Phi_fermi_up = fermi_upper_data[:, 0] * 1e-6, fermi_upper_data[:, 1]\n",
    "Eh, Phi_hp, Phi_hm = hess_data[:, 0] * 1e-6, hess_data[:, 1], hess_data[:, 2] "
   ]
  },
  {
   "attachments": {},
   "cell_type": "markdown",
   "metadata": {},
   "source": [
    "Plot data"
   ]
  },
  {
   "cell_type": "code",
   "execution_count": 9,
   "metadata": {},
   "outputs": [
    {
     "data": {
      "image/png": "[encoded data removed]",
      "text/plain": [
       "<Figure size 432x288 with 1 Axes>"
      ]
     },
     "metadata": {
      "needs_background": "light"
     },
     "output_type": "display_data"
    }
   ],
   "source": [
    "plt.plot(Er, Phi_radio, 'y^')\n",
    "plt.plot(Ex, Phi_xray, 'bs')\n",
    "plt.errorbar(Ef, Phi_fermi, yerr=[Phi_fermi-Phi_fm,Phi_fp-Phi_fermi], xerr=[Ef-Efm,Efp-Ef], fmt='ko')\n",
    "plt.errorbar(Efu, Phi_fermi_up, yerr=0.5 * Phi_fermi_up, linestyle='none', marker='_', color=\"green\", uplims=True)\n",
    "plt.fill_between(Eh, Phi_hm, Phi_hp, color=[(236.0/255.0,92.0/255.0,92.0/255.0)])\n",
    "plt.xscale('log')\n",
    "plt.yscale('log')\n",
    "#plt.xlabel(r'$E_{\\gamma}\\mathrm{(eV)}$')\n",
    "#plt.ylabel(r'$E^2_\\gamma\\phi(E_\\gamma)\\mathrm{(erg cm$^{-2}$ s$^{-1}$)}$')\n",
    "plt.xlim(1.0e-13,1.0e8)\n",
    "plt.ylim(1.0e-15,1.0e-10)\n",
    "plt.show()"
   ]
  },
  {
   "attachments": {},
   "cell_type": "markdown",
   "metadata": {},
   "source": [
    "Gamma-ray emissions"
   ]
  },
  {
   "cell_type": "code",
   "execution_count": 18,
   "metadata": {},
   "outputs": [],
   "source": [
    "n_cl = 0.38 #0.5 #cm-3 or 0.38 cm-3\n",
    "M_cl = 0.4 * M_sol\n",
    "R_cl = 2 * 3e18 #cm\n",
    "V_cl = (4 / 3) * np.pi * (R_cl ** 3)\n",
    "\n",
    "n_sh = 0.12 #cm-3\n",
    "M_sh = 0.5 * M_sol\n",
    "xf = 0.25\n",
    "R_sh = 8 * 3e18 #cm\n",
    "V_sh = (xf / 3) * np.pi * (R_sh ** 3)\n",
    "\n",
    "d = 2.2 * 3e21 #cm\n",
    "\n",
    "sigma_sb=3.5394474508e7 #eV cm^-2 s^-1 K^-4\n",
    "#T_CMB, w_CMB = 2.72, 4.0 * sigma_sb * pow(2.72,4)/3.0e10 #K, eV cm-3\n",
    "T_CMB, w_CMB = 2.72, 0.261\n",
    "k_CMB = w_CMB * c / (sigma_sb * (T_CMB ** 4))\n",
    "T_NIR, w_NIR = 30.0, 0.5\n",
    "k_NIR = w_NIR * c / (sigma_sb * (T_NIR ** 4))\n",
    "T_FIR, w_FIR = 3000.0, 1.0\n",
    "k_FIR = w_FIR * c / (sigma_sb * (T_FIR ** 4))\n",
    "\n",
    "E_g_list = np.logspace(-13, 8, 100) #MeV\n",
    "\n",
    "emi_pre_cl = V_cl / (4 * np.pi * (d ** 2)) # cm\n",
    "emi_pre_sh = V_sh / (4 * np.pi * (d ** 2)) # cm"
   ]
  },
  {
   "cell_type": "code",
   "execution_count": 19,
   "metadata": {},
   "outputs": [
    {
     "name": "stderr",
     "output_type": "stream",
     "text": [
      "/Users/ravikularaman/VScode/SN1006/sn-1006/CRp_gamma.py:418: RuntimeWarning: invalid value encountered in double_scalars\n",
      "  F_p = (num**beta)/(den**gamma)\n"
     ]
    }
   ],
   "source": [
    "del_p, Ap, Tp_c = 2.2, 1.63, 1e9\n",
    "del_e, Ae, Te_c = 2.2, 7.47e-3, 1e7\n",
    "\n",
    "def J_p(T_p):\n",
    "    return J_CRp(T_p, del_p=del_p, Ap=Ap, Tp_c=Tp_c) # MeV-1 cm-2 s-1 sr-1\n",
    "\n",
    "def N_e(T_e):\n",
    "    return N_CRe(T_e, del_e=del_e, Ae=Ae, Te_c=Te_c) # MeV-1 cm-3\n",
    "\n",
    "Phi_gamma_p_cl = np.array([E_g * E_g * emi_pre_cl * Phi_pp_gamma(E_g, J_p, n_cl) * 1.602e-6 for E_g in E_g_list])\n",
    "Phi_gamma_e_cl = np.array([E_g * E_g * emi_pre_cl * Phi_e_rel_brem(E_g, N_e, n_cl) * 1.602e-6 for E_g in E_g_list])\n",
    "Phi_gamma_cl = Phi_gamma_p_cl + Phi_gamma_e_cl\n",
    "\n",
    "Phi_gamma_p_sh = np.array([E_g * E_g * emi_pre_sh * Phi_pp_gamma(E_g, J_p, n_sh) * 1.602e-6 for E_g in E_g_list])\n",
    "Phi_gamma_e_sh = np.array([E_g * E_g * emi_pre_sh * Phi_e_rel_brem(E_g, N_e, n_sh) * 1.602e-6 for E_g in E_g_list])\n",
    "Phi_gamma_sh = Phi_gamma_p_sh + Phi_gamma_e_sh\n",
    "\n",
    "Phi_gamma_e_IC = np.array([E_g * E_g * (emi_pre_cl) * (Phi_e_IC(E_g, N_e, T_CMB, k_CMB) + Phi_e_IC(E_g, N_e, T_NIR, k_NIR) + Phi_e_IC(E_g, N_e, T_FIR, k_FIR)) * 1.602e-6 for E_g in E_g_list])\n",
    "#Phi_gamma_e_IC = np.array([E_g * E_g * (emi_pre_cl + emi_pre_sh) * (Phi_e_IC(E_g, N_e, T_CMB, 1)) * 1.602e-6 for E_g in E_g_list])\n"
   ]
  },
  {
   "cell_type": "code",
   "execution_count": 20,
   "metadata": {},
   "outputs": [
    {
     "data": {
      "image/png": "[encoded data removed]",
      "text/plain": [
       "<Figure size 432x288 with 1 Axes>"
      ]
     },
     "metadata": {
      "needs_background": "light"
     },
     "output_type": "display_data"
    }
   ],
   "source": [
    "plt.plot(Er, Phi_radio, 'y^')\n",
    "plt.plot(Ex, Phi_xray, 'bs')\n",
    "plt.errorbar(Ef, Phi_fermi, yerr=[Phi_fermi-Phi_fm,Phi_fp-Phi_fermi], xerr=[Ef-Efm,Efp-Ef], fmt='ko')\n",
    "plt.errorbar(Efu, Phi_fermi_up, yerr=0.5 * Phi_fermi_up, linestyle='none', marker='_', color=\"green\", uplims=True)\n",
    "plt.fill_between(Eh, Phi_hm, Phi_hp, color=[(236.0/255.0,92.0/255.0,92.0/255.0)])\n",
    "plt.plot(E_g_list, Phi_gamma_cl, color='indianred')\n",
    "plt.plot(E_g_list, Phi_gamma_sh, color='cornflowerblue')\n",
    "plt.plot(E_g_list, Phi_gamma_e_IC, color='lightgreen')\n",
    "plt.xscale('log')\n",
    "plt.yscale('log')\n",
    "#plt.xlim(1.0e-13,1.0e8)\n",
    "plt.ylim(1.0e-15,1.0e-10)\n",
    "plt.show()"
   ]
  },
  {
   "attachments": {},
   "cell_type": "markdown",
   "metadata": {},
   "source": [
    "Radio emissions"
   ]
  },
  {
   "cell_type": "code",
   "execution_count": 21,
   "metadata": {},
   "outputs": [],
   "source": [
    "Phi_radio_e_syn = np.array([E_g * E_g * (emi_pre_cl) * Phi_syn(E_g, N_e, 26e-3) * 1.602e-6 for E_g in E_g_list])"
   ]
  },
  {
   "cell_type": "code",
   "execution_count": 24,
   "metadata": {},
   "outputs": [
    {
     "data": {
      "image/png": "[encoded data removed]",
      "text/plain": [
       "<Figure size 432x288 with 1 Axes>"
      ]
     },
     "metadata": {
      "needs_background": "light"
     },
     "output_type": "display_data"
    }
   ],
   "source": [
    "plt.plot(Er, Phi_radio, 'y^')\n",
    "plt.plot(Ex, Phi_xray, 'bs')\n",
    "plt.errorbar(Ef, Phi_fermi, yerr=[Phi_fermi-Phi_fm,Phi_fp-Phi_fermi], xerr=[Ef-Efm,Efp-Ef], fmt='ko')\n",
    "plt.errorbar(Efu, Phi_fermi_up, yerr=0.5 * Phi_fermi_up, linestyle='none', marker='_', color=\"green\", uplims=True)\n",
    "plt.fill_between(Eh, Phi_hm, Phi_hp, color=[(236.0/255.0,92.0/255.0,92.0/255.0)])\n",
    "plt.plot(E_g_list, Phi_gamma_cl, color='indianred')\n",
    "plt.plot(E_g_list, Phi_gamma_sh, color='cornflowerblue')\n",
    "plt.plot(E_g_list, Phi_gamma_e_IC, color='lightgreen')\n",
    "plt.plot(E_g_list, Phi_radio_e_syn, color='gold')\n",
    "plt.xscale('log')\n",
    "plt.yscale('log')\n",
    "#plt.xlim(1.0e-13,1.0e8)\n",
    "plt.ylim(1.0e-15,1.0e-10)\n",
    "plt.show()"
   ]
  },
  {
   "attachments": {},
   "cell_type": "markdown",
   "metadata": {},
   "source": [
    "X-ray fit"
   ]
  },
  {
   "cell_type": "code",
   "execution_count": 34,
   "metadata": {},
   "outputs": [],
   "source": [
    "def Xray_fit(E):\n",
    "    return 2.3e-12 * np.power(E/(1e-3), -3)"
   ]
  },
  {
   "cell_type": "code",
   "execution_count": 35,
   "metadata": {},
   "outputs": [],
   "source": [
    "Phi_x_fit = np.array([Xray_fit(E) for E in E_g_list])"
   ]
  },
  {
   "cell_type": "code",
   "execution_count": 36,
   "metadata": {},
   "outputs": [
    {
     "data": {
      "image/png": "[encoded data removed]",
      "text/plain": [
       "<Figure size 432x288 with 1 Axes>"
      ]
     },
     "metadata": {
      "needs_background": "light"
     },
     "output_type": "display_data"
    }
   ],
   "source": [
    "plt.plot(Er, Phi_radio, 'y^')\n",
    "plt.plot(Ex, Phi_xray, 'bs')\n",
    "plt.errorbar(Ef, Phi_fermi, yerr=[Phi_fermi-Phi_fm,Phi_fp-Phi_fermi], xerr=[Ef-Efm,Efp-Ef], fmt='ko')\n",
    "plt.errorbar(Efu, Phi_fermi_up, yerr=0.5 * Phi_fermi_up, linestyle='none', marker='_', color=\"green\", uplims=True)\n",
    "plt.fill_between(Eh, Phi_hm, Phi_hp, color=[(236.0/255.0,92.0/255.0,92.0/255.0)])\n",
    "plt.plot(E_g_list, Phi_gamma_cl, color='indianred')\n",
    "plt.plot(E_g_list, Phi_gamma_sh, color='cornflowerblue')\n",
    "plt.plot(E_g_list, Phi_gamma_e_IC, color='lightgreen')\n",
    "plt.plot(E_g_list, Phi_radio_e_syn, color='gold')\n",
    "plt.plot(E_g_list, Phi_x_fit, color='purple')\n",
    "plt.xscale('log')\n",
    "plt.yscale('log')\n",
    "#plt.xlim(1.0e-13,1.0e8)\n",
    "plt.ylim(1.0e-15,1.0e-10)\n",
    "plt.show()"
   ]
  },
  {
   "attachments": {},
   "cell_type": "markdown",
   "metadata": {},
   "source": [
    "X-ray emissions (6.4 keV line)"
   ]
  },
  {
   "cell_type": "code",
   "execution_count": null,
   "metadata": {},
   "outputs": [],
   "source": []
  },
  {
   "attachments": {},
   "cell_type": "markdown",
   "metadata": {},
   "source": []
  }
 ],
 "metadata": {
  "kernelspec": {
   "display_name": "base",
   "language": "python",
   "name": "python3"
  },
  "language_info": {
   "codemirror_mode": {
    "name": "ipython",
    "version": 3
   },
   "file_extension": ".py",
   "mimetype": "text/x-python",
   "name": "python",
   "nbconvert_exporter": "python",
   "pygments_lexer": "ipython3",
   "version": "3.9.7"
  },
  "orig_nbformat": 4
 },
 "nbformat": 4,
 "nbformat_minor": 2
}
