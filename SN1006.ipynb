{
 "cells": [
  {
   "attachments": {},
   "cell_type": "markdown",
   "metadata": {},
   "source": [
    "# Fe K $\\alpha$ line from SN1006"
   ]
  },
  {
   "cell_type": "code",
   "execution_count": 1,
   "metadata": {},
   "outputs": [],
   "source": [
    "import numpy as np\n",
    "import matplotlib.pyplot as plt"
   ]
  },
  {
   "cell_type": "code",
   "execution_count": 2,
   "metadata": {},
   "outputs": [],
   "source": [
    "m_p = 938.272e6 #eV\n",
    "m_e = 0.511e6  #eV\n",
    "c = 3e10 #cm/s\n",
    "hPlanck = 4.135e-15 #eV s"
   ]
  },
  {
   "cell_type": "code",
   "execution_count": 3,
   "metadata": {},
   "outputs": [],
   "source": [
    "def velocity(E_kin, rest_mass):\n",
    "    E_kin = E_kin\n",
    "    rest_mass = rest_mass\n",
    "    gamma = 1+(E_kin/rest_mass)\n",
    "    beta = np.sqrt(1-(1/(gamma**2)))\n",
    "    v = c*beta\n",
    "    return v, beta, gamma"
   ]
  },
  {
   "attachments": {},
   "cell_type": "markdown",
   "metadata": {},
   "source": [
    "## CR spectrum"
   ]
  },
  {
   "attachments": {},
   "cell_type": "markdown",
   "metadata": {},
   "source": [
    "$J_{CR}(T_i) = A_i(T_i^2 + 2T_im_ic^2)^{-\\frac{\\delta}{2}}exp\\left(-\\frac{T_i}{T_i^c}\\right)$\n",
    "where $A_i$ is the normalisation factor ($\\mathrm{eV^{-1}cm^{-2}s^{-1}sr^{-1}}$), $T_i$ is the kinetic energy of the CR particle of species $i$, $T_i^c$ is the cut-off energy, $m_i$ is the mass of the CR particle $i$, all of these quantities in $\\mathrm{GeV}$ and $\\delta$ is the power-law index."
   ]
  },
  {
   "cell_type": "code",
   "execution_count": 4,
   "metadata": {},
   "outputs": [],
   "source": [
    "def J_CRp(T_p, del_p, Ap, Tp_c):\n",
    "    # Gives spectrum in eV-1 cm-2 s-1 sr-1\n",
    "    return Ap * np.power((T_p ** 2) + (2 * T_p * m_p), -del_p / 2) * np.exp(- T_p / Tp_c)\n",
    "\n",
    "def J_CRe(T_e, del_e, Ae, Te_c):\n",
    "    # Gives spectrum in eV-1 cm-2 s-1 sr-1\n",
    "    return Ae * np.power((T_e ** 2) + (2 * T_e * m_e), -del_e / 2) * np.exp(- T_e / Te_c)"
   ]
  },
  {
   "attachments": {},
   "cell_type": "markdown",
   "metadata": {},
   "source": [
    "## Multi-wavelength fit"
   ]
  },
  {
   "attachments": {},
   "cell_type": "markdown",
   "metadata": {},
   "source": [
    "In order to find the normalisation and cut-off values for the CR particle spectra, we fit multiwavelength data (radio, gamma) from the SN1006 region.\n",
    "\n",
    "Radio: synchrotron emissions from electrons\n",
    "\n",
    "$\\Phi_{syn} = \\frac{\\sqrt{3}}{2\\pi}\\frac{e^3B_0}{m_ec^2}\\frac{1}{\\hbar{E}}\\int_0^{\\infty}N_{CRe}(T_e)R\\left(\\frac{T_e}{E_c(T_e)}\\right)\\,dT_e$\n",
    "\n",
    "Gamma: \n",
    "pion decay from protons\n",
    "\n",
    "$\\Phi_{\\gamma, p}(E_\\gamma) = 4\\pi{n_H}\\int\\frac{d\\sigma}{dE_\\gamma}(T_p, E_\\gamma)N_{CRp}(T_p)\\,dT_p$ \n",
    "\n",
    "inverse Compton and relativistic Bremsstrahlung from electrons \n",
    "\n",
    "$\\Phi_{\\gamma, e}(E_\\gamma) = cn_H\\int\\sigma_{brem}(E_\\gamma, T_e)N_{CRe}(T_e)\\,dT_e + \\int\\frac{dN_{iso}}{d{\\omega}dt}(T_e, E_\\gamma)N_{CRe}(T_e)\\,dT_e$\n"
   ]
  },
  {
   "cell_type": "code",
   "execution_count": 5,
   "metadata": {},
   "outputs": [
    {
     "ename": "ImportError",
     "evalue": "cannot import name 'Phi_pp_gamma' from 'CRp_gamma' (/Users/ravikularaman/VScode/SN1006/sn-1006/CRp_gamma.py)",
     "output_type": "error",
     "traceback": [
      "\u001b[0;31m---------------------------------------------------------------------------\u001b[0m",
      "\u001b[0;31mImportError\u001b[0m                               Traceback (most recent call last)",
      "\u001b[0;32m/var/folders/5g/wrw1192n4xv9h3q7rhf1y6yc0000gn/T/ipykernel_52808/3886938127.py\u001b[0m in \u001b[0;36m<module>\u001b[0;34m\u001b[0m\n\u001b[0;32m----> 1\u001b[0;31m \u001b[0;32mfrom\u001b[0m \u001b[0mCRp_gamma\u001b[0m \u001b[0;32mimport\u001b[0m \u001b[0mPhi_pp_gamma\u001b[0m\u001b[0;34m\u001b[0m\u001b[0;34m\u001b[0m\u001b[0m\n\u001b[0m\u001b[1;32m      2\u001b[0m \u001b[0;32mfrom\u001b[0m \u001b[0mCRe_gamma_radio\u001b[0m \u001b[0;32mimport\u001b[0m \u001b[0mPhi_syn\u001b[0m\u001b[0;34m,\u001b[0m \u001b[0mPhi_e_rel_brem\u001b[0m\u001b[0;34m,\u001b[0m \u001b[0mPhi_e_IC\u001b[0m\u001b[0;34m\u001b[0m\u001b[0;34m\u001b[0m\u001b[0m\n",
      "\u001b[0;31mImportError\u001b[0m: cannot import name 'Phi_pp_gamma' from 'CRp_gamma' (/Users/ravikularaman/VScode/SN1006/sn-1006/CRp_gamma.py)"
     ]
    }
   ],
   "source": [
    "from CRp_gamma import Phi_pp_gamma \n",
    "from CRe_gamma_radio import Phi_syn, Phi_e_rel_brem, Phi_e_IC"
   ]
  },
  {
   "cell_type": "code",
   "execution_count": 6,
   "metadata": {},
   "outputs": [],
   "source": [
    "def N_CRp(T_p, del_p, Ap, Tp_c):\n",
    "    # Gives particle density in eV-1 cm-3\n",
    "    v_p, _, _ = velocity(T_p, m_p)\n",
    "    return (4 * np.pi / v_p) * J_CRp(T_p, del_p, Ap, Tp_c)\n",
    "\n",
    "def N_CRe(T_e, del_e, Ae, Te_c):\n",
    "    # Gives particle density in eV-1 cm-3\n",
    "    v_e, _, _ = velocity(T_e, m_e)\n",
    "    return (4 * np.pi / v_e) * J_CRp(T_e, del_e, Ae, Te_c)"
   ]
  },
  {
   "attachments": {},
   "cell_type": "markdown",
   "metadata": {},
   "source": [
    "Loading data"
   ]
  },
  {
   "cell_type": "code",
   "execution_count": 7,
   "metadata": {},
   "outputs": [
    {
     "ename": "FileNotFoundError",
     "evalue": "[Errno 2] No such file or directory: 'Data txt\\\\SN1006_data_radio.txt'",
     "output_type": "error",
     "traceback": [
      "\u001b[0;31m---------------------------------------------------------------------------\u001b[0m",
      "\u001b[0;31mFileNotFoundError\u001b[0m                         Traceback (most recent call last)",
      "\u001b[0;32m/var/folders/5g/wrw1192n4xv9h3q7rhf1y6yc0000gn/T/ipykernel_52808/1395144525.py\u001b[0m in \u001b[0;36m<module>\u001b[0;34m\u001b[0m\n\u001b[0;32m----> 1\u001b[0;31m \u001b[0mradio_data\u001b[0m \u001b[0;34m=\u001b[0m \u001b[0mnp\u001b[0m\u001b[0;34m.\u001b[0m\u001b[0mgenfromtxt\u001b[0m\u001b[0;34m(\u001b[0m\u001b[0mopen\u001b[0m\u001b[0;34m(\u001b[0m\u001b[0;34m\"Data txt\\SN1006_data_radio.txt\"\u001b[0m\u001b[0;34m,\u001b[0m \u001b[0;34m\"r\"\u001b[0m\u001b[0;34m)\u001b[0m\u001b[0;34m,\u001b[0m \u001b[0mdelimiter\u001b[0m\u001b[0;34m=\u001b[0m\u001b[0;34m','\u001b[0m\u001b[0;34m)\u001b[0m\u001b[0;34m\u001b[0m\u001b[0;34m\u001b[0m\u001b[0m\n\u001b[0m\u001b[1;32m      2\u001b[0m \u001b[0mxray_data\u001b[0m \u001b[0;34m=\u001b[0m \u001b[0mnp\u001b[0m\u001b[0;34m.\u001b[0m\u001b[0mgenfromtxt\u001b[0m\u001b[0;34m(\u001b[0m\u001b[0mopen\u001b[0m\u001b[0;34m(\u001b[0m\u001b[0;34m\"Data txt\\SN1006_data_suzaku.txt\"\u001b[0m\u001b[0;34m,\u001b[0m \u001b[0;34m\"r\"\u001b[0m\u001b[0;34m)\u001b[0m\u001b[0;34m,\u001b[0m \u001b[0mdelimiter\u001b[0m\u001b[0;34m=\u001b[0m\u001b[0;34m','\u001b[0m\u001b[0;34m)\u001b[0m\u001b[0;34m\u001b[0m\u001b[0;34m\u001b[0m\u001b[0m\n\u001b[1;32m      3\u001b[0m \u001b[0mfermi_data\u001b[0m \u001b[0;34m=\u001b[0m \u001b[0mnp\u001b[0m\u001b[0;34m.\u001b[0m\u001b[0mgenfromtxt\u001b[0m\u001b[0;34m(\u001b[0m\u001b[0mopen\u001b[0m\u001b[0;34m(\u001b[0m\u001b[0;34m\"Data txt\\SN1006_data_SW_FERMI.txt\"\u001b[0m\u001b[0;34m,\u001b[0m \u001b[0;34m\"r\"\u001b[0m\u001b[0;34m)\u001b[0m\u001b[0;34m,\u001b[0m \u001b[0mdelimiter\u001b[0m\u001b[0;34m=\u001b[0m\u001b[0;34m','\u001b[0m\u001b[0;34m)\u001b[0m\u001b[0;34m\u001b[0m\u001b[0;34m\u001b[0m\u001b[0m\n\u001b[1;32m      4\u001b[0m \u001b[0mfermi_upper_data\u001b[0m \u001b[0;34m=\u001b[0m \u001b[0mnp\u001b[0m\u001b[0;34m.\u001b[0m\u001b[0mgenfromtxt\u001b[0m\u001b[0;34m(\u001b[0m\u001b[0mopen\u001b[0m\u001b[0;34m(\u001b[0m\u001b[0;34m\"Data txt\\SN1006_data_SW_upper_FERMI_Acero2015.txt\"\u001b[0m\u001b[0;34m,\u001b[0m \u001b[0;34m\"r\"\u001b[0m\u001b[0;34m)\u001b[0m\u001b[0;34m,\u001b[0m \u001b[0mdelimiter\u001b[0m\u001b[0;34m=\u001b[0m\u001b[0;34m','\u001b[0m\u001b[0;34m)\u001b[0m\u001b[0;34m\u001b[0m\u001b[0;34m\u001b[0m\u001b[0m\n\u001b[1;32m      5\u001b[0m \u001b[0mhess_data\u001b[0m \u001b[0;34m=\u001b[0m \u001b[0mnp\u001b[0m\u001b[0;34m.\u001b[0m\u001b[0mgenfromtxt\u001b[0m\u001b[0;34m(\u001b[0m\u001b[0mopen\u001b[0m\u001b[0;34m(\u001b[0m\u001b[0;34m\"Data txt\\SN1006_data_SW_HESS.txt\"\u001b[0m\u001b[0;34m,\u001b[0m \u001b[0;34m\"r\"\u001b[0m\u001b[0;34m)\u001b[0m\u001b[0;34m,\u001b[0m \u001b[0mdelimiter\u001b[0m\u001b[0;34m=\u001b[0m\u001b[0;34m','\u001b[0m\u001b[0;34m)\u001b[0m\u001b[0;34m\u001b[0m\u001b[0;34m\u001b[0m\u001b[0m\n",
      "\u001b[0;31mFileNotFoundError\u001b[0m: [Errno 2] No such file or directory: 'Data txt\\\\SN1006_data_radio.txt'"
     ]
    }
   ],
   "source": [
    "radio_data = np.genfromtxt(open(\"Data txt\\SN1006_data_radio.txt\", \"r\"), delimiter=',')\n",
    "xray_data = np.genfromtxt(open(\"Data txt\\SN1006_data_suzaku.txt\", \"r\"), delimiter=',')\n",
    "fermi_data = np.genfromtxt(open(\"Data txt\\SN1006_data_SW_FERMI.txt\", \"r\"), delimiter=',')\n",
    "fermi_upper_data = np.genfromtxt(open(\"Data txt\\SN1006_data_SW_upper_FERMI_Acero2015.txt\", \"r\"), delimiter=',')\n",
    "hess_data = np.genfromtxt(open(\"Data txt\\SN1006_data_SW_HESS.txt\", \"r\"), delimiter=',')"
   ]
  },
  {
   "attachments": {},
   "cell_type": "markdown",
   "metadata": {},
   "source": [
    "Converting all to units $\\mathrm{eV}$ and $\\mathrm{erg.cm^{-2}.s^{-1}}$"
   ]
  },
  {
   "cell_type": "code",
   "execution_count": null,
   "metadata": {},
   "outputs": [],
   "source": [
    "Er, Phi_radio = radio_data[:, 0] * hPlanck, 1e-23 * radio_data[:, 0] * radio_data[:, 1]\n",
    "Ex, Phi_xray = xray_data[:, 0], xray_data[:, 1] * 1.602e-12\n",
    "Ef, Efm, Efp, Phi_fermi, Phi_fp, Phi_fm = fermi_data[:, 0] * 1e9, fermi_data[:, 1] * 1e9, fermi_data[:, 2] * 1e9, fermi_data[:, 3], fermi_data[:, 4], fermi_data[:, 5]\n",
    "Efu, Phi_fermi_up = fermi_upper_data[:, 0], fermi_upper_data[:, 1]\n",
    "Eh, Phi_hp, Phi_hm = hess_data[:, 0], hess_data[:, 1], hess_data[:, 2] "
   ]
  },
  {
   "attachments": {},
   "cell_type": "markdown",
   "metadata": {},
   "source": [
    "Plot data"
   ]
  },
  {
   "cell_type": "code",
   "execution_count": null,
   "metadata": {},
   "outputs": [],
   "source": [
    "plt.plot(Er, Phi_radio, 'y^')\n",
    "plt.plot(Ex, Phi_xray, 'bs')\n",
    "plt.errorbar(Ef, Phi_fermi, yerr=[Phi_fermi-Phi_fm,Phi_fp-Phi_fermi], xerr=[Ef-Efm,Efp-Ef], fmt='ko')\n",
    "plt.errorbar(Efu, Phi_fermi_up, yerr=0.5 * Phi_fermi_up, linestyle='none', marker='_', color=\"green\", uplims=True)\n",
    "plt.fill_between(Eh, Phi_hm, Phi_hp, color=[(236.0/255.0,92.0/255.0,92.0/255.0)])\n",
    "plt.set_xscale('log')\n",
    "plt.set_yscale('log')\n",
    "plt.legend()\n",
    "plt.set_xlabel(r'$E_{\\gamma} \\textrm{ (eV)}$',fontsize=fs)\n",
    "plt.set_ylabel(r'$E^2_\\gamma\\phi(E_\\gamma) \\textrm{ (erg cm$^{-2}$ s$^{-1}$)}$',fontsize=fs)\n",
    "plt.set_xlim(1.0e-7,1.0e14)\n",
    "plt.set_ylim(1.0e-15,1.0e-10)\n",
    "plt.show()"
   ]
  }
 ],
 "metadata": {
  "kernelspec": {
   "display_name": "base",
   "language": "python",
   "name": "python3"
  },
  "language_info": {
   "codemirror_mode": {
    "name": "ipython",
    "version": 3
   },
   "file_extension": ".py",
   "mimetype": "text/x-python",
   "name": "python",
   "nbconvert_exporter": "python",
   "pygments_lexer": "ipython3",
   "version": "3.9.7"
  },
  "orig_nbformat": 4
 },
 "nbformat": 4,
 "nbformat_minor": 2
}
