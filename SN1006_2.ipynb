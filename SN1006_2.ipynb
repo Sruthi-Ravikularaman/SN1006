{
 "cells": [
  {
   "cell_type": "code",
   "execution_count": 1,
   "metadata": {},
   "outputs": [],
   "source": [
    "import numpy as np\n",
    "import matplotlib.pyplot as plt\n",
    "from CRp_gamma import Phi_pp_gamma, velocity, integrate\n",
    "# Takes CRp spectrum in MeV-1 cm-3 and returns gamma spectrum in erg cm-3 s-1\n",
    "from CRe_gamma_radio import Phi_e_syn, Phi_e_rel_brem, Phi_e_IC\n",
    "# Takes CRe spectrum in MeV-1 cm-3 and returns gamma spectrum in erg cm-3 s-1\n",
    "from FeKalpha_CR import Phi_Fe_64_p, Phi_Fe_64_e\n",
    "# Takes CR spectrum in MeV-1 cm-3 and returns flux in photons cm-2 s-1"
   ]
  },
  {
   "cell_type": "markdown",
   "metadata": {},
   "source": [
    "## Parameters"
   ]
  },
  {
   "cell_type": "markdown",
   "metadata": {},
   "source": [
    "General constants"
   ]
  },
  {
   "cell_type": "code",
   "execution_count": 4,
   "metadata": {},
   "outputs": [],
   "source": [
    "pc = 3e18 #cm\n",
    "kpc = 1e3 * pc \n",
    "\n",
    "MeV_to_erg = 1.602e-6 \n",
    "m_p = 9.382e2 #MeV\n",
    "m_e = 5.11e-1  #MeV\n",
    "c = 2.998e10 #cm/s\n",
    "hPlanck = 4.136e-21 #MeV/Hz\n",
    "M_sol = 1.988e30 #kg\n",
    "m_H = 1.674e-27 #kg\n",
    "m_avg = 1.4 * m_H\n",
    "sigma_sb = 3.539e1 #MeV cm-2 s-1 K-4\n",
    "\n",
    "E_list = np.logspace(-13, 8, 100) #MeV"
   ]
  },
  {
   "cell_type": "markdown",
   "metadata": {},
   "source": [
    "Cloud and shell parameters"
   ]
  },
  {
   "cell_type": "code",
   "execution_count": 5,
   "metadata": {},
   "outputs": [],
   "source": [
    "ds = 2.2 * kpc\n",
    "\n",
    "M_cl = 0.4 * M_sol\n",
    "R_cl = 5.5e18 #cm (Miceli et al. 2016)\n",
    "V_cl = (4 / 3) * np.pi * (R_cl ** 3)\n",
    "n_cl = 0.5 #cm-3 (Miceli et al. 2016)\n",
    "B_cl = 1e-2 #mG (few microG hence a maximum of 10 microG)\n",
    "\n",
    "M_sh = 0.5 * M_sol\n",
    "R_sh = 7.7 * pc #(Cristofari et al. 2019)\n",
    "xf = 0.25 # volume-filling factor for SW limb\n",
    "V_sh = (xf / 3) * np.pi * (R_sh ** 3) #cm3 (Cristofari et al. 2019)\n",
    "n_sh = 0.035 #cm-3 (Giuffrida et al. 2007)\n",
    "B_sh = 9e-2 #mG"
   ]
  },
  {
   "cell_type": "markdown",
   "metadata": {},
   "source": [
    "Photon-field parameters"
   ]
  },
  {
   "cell_type": "code",
   "execution_count": 6,
   "metadata": {},
   "outputs": [],
   "source": [
    "# T is K, w in MeV cm-3\n",
    "T_CMB, w_CMB = 2.72, 0.261e-6\n",
    "k_CMB = w_CMB * c / (sigma_sb * (T_CMB ** 4))\n",
    "T_NIR, w_NIR = 30.0, 0.5e-6\n",
    "k_NIR = w_NIR * c / (sigma_sb * (T_NIR ** 4))\n",
    "T_FIR, w_FIR = 3000.0, 1.0e-6\n",
    "k_FIR = w_FIR * c / (sigma_sb * (T_FIR ** 4))"
   ]
  },
  {
   "cell_type": "markdown",
   "metadata": {},
   "source": [
    "## CR spectra"
   ]
  },
  {
   "cell_type": "code",
   "execution_count": 7,
   "metadata": {},
   "outputs": [],
   "source": [
    "def Jp(p, delta, A, p_c):\n",
    "    '''Gives no. of particle in MeV-3 cm-3'''\n",
    "    return A * np.power(p, -delta) * np.exp(- p / p_c)\n",
    "\n",
    "\n",
    "def J_CRp(T_p, del_p, A_p, p_pc):\n",
    "    '''Gives no. of protons in MeV-1 cm-3 '''\n",
    "    p_p = np.sqrt((T_p ** 2) + (2 * m_p * T_p))\n",
    "    dp_on_dT = (T_p + m_p) / p_p\n",
    "    return 4 * np.pi * (p_p ** 2) * Jp(p_p, del_p, A_p, p_pc) * dp_on_dT\n",
    "\n",
    "\n",
    "def J_CRe(T_e, del_e, A_e, p_ec):\n",
    "    '''Gives no. of electrons in MeV-1 cm-3 '''\n",
    "    p_e = np.sqrt((T_e ** 2) + (2 * m_e * T_e))\n",
    "    dp_on_dT = (T_e + m_e) / p_e\n",
    "    return 4 * np.pi * (p_e ** 2) * Jp(p_e, del_e, A_e, p_ec) * dp_on_dT"
   ]
  },
  {
   "cell_type": "markdown",
   "metadata": {},
   "source": [
    "## Load multi-wavelength data"
   ]
  },
  {
   "cell_type": "markdown",
   "metadata": {},
   "source": [
    "Import data"
   ]
  },
  {
   "cell_type": "code",
   "execution_count": null,
   "metadata": {},
   "outputs": [],
   "source": [
    "radio_data = np.genfromtxt(open(\"SN1006_data_radio.txt\", \"r\"), delimiter=',') # in Hz and Jy Hz\n"
   ]
  }
 ],
 "metadata": {
  "kernelspec": {
   "display_name": "GCR-ionization-rate",
   "language": "python",
   "name": "python3"
  },
  "language_info": {
   "codemirror_mode": {
    "name": "ipython",
    "version": 3
   },
   "file_extension": ".py",
   "mimetype": "text/x-python",
   "name": "python",
   "nbconvert_exporter": "python",
   "pygments_lexer": "ipython3",
   "version": "3.10.4"
  },
  "orig_nbformat": 4
 },
 "nbformat": 4,
 "nbformat_minor": 2
}
